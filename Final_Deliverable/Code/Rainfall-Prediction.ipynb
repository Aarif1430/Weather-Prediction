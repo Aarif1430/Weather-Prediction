{
 "cells": [
  {
   "cell_type": "code",
   "execution_count": 1,
   "metadata": {},
   "outputs": [
    {
     "data": {
      "text/html": [
       "<script type=\"text/javascript\">window.PlotlyConfig = {MathJaxConfig: 'local'};</script><script type=\"text/javascript\">if (window.MathJax) {MathJax.Hub.Config({SVG: {font: \"STIX-Web\"}});}</script><script>requirejs.config({paths: { 'plotly': ['https://cdn.plot.ly/plotly-latest.min']},});if(!window._Plotly) {require(['plotly'],function(plotly) {window._Plotly=plotly;});}</script>"
      ],
      "text/vnd.plotly.v1+html": [
       "<script type=\"text/javascript\">window.PlotlyConfig = {MathJaxConfig: 'local'};</script><script type=\"text/javascript\">if (window.MathJax) {MathJax.Hub.Config({SVG: {font: \"STIX-Web\"}});}</script><script>requirejs.config({paths: { 'plotly': ['https://cdn.plot.ly/plotly-latest.min']},});if(!window._Plotly) {require(['plotly'],function(plotly) {window._Plotly=plotly;});}</script>"
      ]
     },
     "metadata": {},
     "output_type": "display_data"
    }
   ],
   "source": [
    "import sklearn\n",
    "import pandas as pd\n",
    "import numpy as np\n",
    "import seaborn as sns\n",
    "import matplotlib.pyplot as plt\n",
    "from sklearn.ensemble import RandomForestClassifier\n",
    "from sklearn.linear_model import LogisticRegression\n",
    "from sklearn.neighbors import KNeighborsClassifier\n",
    "from sklearn import metrics\n",
    "from sklearn.svm import SVC\n",
    "from sklearn.model_selection import cross_validate\n",
    "from sklearn.metrics import accuracy_score\n",
    "import warnings\n",
    "warnings.filterwarnings('ignore')\n",
    "import os\n",
    "from PIL import  Image\n",
    "%matplotlib inline\n",
    "import itertools\n",
    "import io\n",
    "import plotly.offline as py#visualization\n",
    "py.init_notebook_mode(connected=True)#visualization\n",
    "import plotly.graph_objs as go#visualization\n",
    "import plotly.tools as tls#visualization\n",
    "import plotly.figure_factory as ff#visualization"
   ]
  },
  {
   "cell_type": "markdown",
   "metadata": {},
   "source": [
    "## Loading Preprocessed Dataset"
   ]
  },
  {
   "cell_type": "code",
   "execution_count": 2,
   "metadata": {},
   "outputs": [],
   "source": [
    "dataset = pd.read_csv('C:/Users/sabhn/OneDrive/Desktop/KBS/Weather Prediction/cleanfile1.csv')"
   ]
  },
  {
   "cell_type": "code",
   "execution_count": 3,
   "metadata": {},
   "outputs": [
    {
     "data": {
      "text/html": [
       "<div>\n",
       "<style scoped>\n",
       "    .dataframe tbody tr th:only-of-type {\n",
       "        vertical-align: middle;\n",
       "    }\n",
       "\n",
       "    .dataframe tbody tr th {\n",
       "        vertical-align: top;\n",
       "    }\n",
       "\n",
       "    .dataframe thead th {\n",
       "        text-align: right;\n",
       "    }\n",
       "</style>\n",
       "<table border=\"1\" class=\"dataframe\">\n",
       "  <thead>\n",
       "    <tr style=\"text-align: right;\">\n",
       "      <th></th>\n",
       "      <th>Date</th>\n",
       "      <th>Location</th>\n",
       "      <th>MinTemp</th>\n",
       "      <th>MaxTemp</th>\n",
       "      <th>Rainfall</th>\n",
       "      <th>Evaporation</th>\n",
       "      <th>Sunshine</th>\n",
       "      <th>WindGustDir</th>\n",
       "      <th>WindGustSpeed</th>\n",
       "      <th>WindDir9am</th>\n",
       "      <th>...</th>\n",
       "      <th>Cloud9am</th>\n",
       "      <th>Cloud3pm</th>\n",
       "      <th>Temp9am</th>\n",
       "      <th>Temp3pm</th>\n",
       "      <th>RainToday</th>\n",
       "      <th>RISK_MM</th>\n",
       "      <th>RainTomorrow</th>\n",
       "      <th>Year</th>\n",
       "      <th>Month</th>\n",
       "      <th>Day</th>\n",
       "    </tr>\n",
       "  </thead>\n",
       "  <tbody>\n",
       "    <tr>\n",
       "      <th>0</th>\n",
       "      <td>01-01-2009</td>\n",
       "      <td>Cobar</td>\n",
       "      <td>17.9</td>\n",
       "      <td>35.2</td>\n",
       "      <td>0.0</td>\n",
       "      <td>12.0</td>\n",
       "      <td>12.3</td>\n",
       "      <td>SSW</td>\n",
       "      <td>48</td>\n",
       "      <td>ENE</td>\n",
       "      <td>...</td>\n",
       "      <td>2</td>\n",
       "      <td>5</td>\n",
       "      <td>26.6</td>\n",
       "      <td>33.4</td>\n",
       "      <td>No</td>\n",
       "      <td>0.0</td>\n",
       "      <td>No</td>\n",
       "      <td>2009</td>\n",
       "      <td>1</td>\n",
       "      <td>1</td>\n",
       "    </tr>\n",
       "    <tr>\n",
       "      <th>1</th>\n",
       "      <td>02-01-2009</td>\n",
       "      <td>Cobar</td>\n",
       "      <td>18.4</td>\n",
       "      <td>28.9</td>\n",
       "      <td>0.0</td>\n",
       "      <td>14.8</td>\n",
       "      <td>13.0</td>\n",
       "      <td>S</td>\n",
       "      <td>37</td>\n",
       "      <td>SSE</td>\n",
       "      <td>...</td>\n",
       "      <td>1</td>\n",
       "      <td>1</td>\n",
       "      <td>20.3</td>\n",
       "      <td>27.0</td>\n",
       "      <td>No</td>\n",
       "      <td>0.0</td>\n",
       "      <td>No</td>\n",
       "      <td>2009</td>\n",
       "      <td>1</td>\n",
       "      <td>2</td>\n",
       "    </tr>\n",
       "    <tr>\n",
       "      <th>2</th>\n",
       "      <td>04-01-2009</td>\n",
       "      <td>Cobar</td>\n",
       "      <td>19.4</td>\n",
       "      <td>37.6</td>\n",
       "      <td>0.0</td>\n",
       "      <td>10.8</td>\n",
       "      <td>10.6</td>\n",
       "      <td>NNE</td>\n",
       "      <td>46</td>\n",
       "      <td>NNE</td>\n",
       "      <td>...</td>\n",
       "      <td>1</td>\n",
       "      <td>6</td>\n",
       "      <td>28.7</td>\n",
       "      <td>34.9</td>\n",
       "      <td>No</td>\n",
       "      <td>0.0</td>\n",
       "      <td>No</td>\n",
       "      <td>2009</td>\n",
       "      <td>1</td>\n",
       "      <td>4</td>\n",
       "    </tr>\n",
       "    <tr>\n",
       "      <th>3</th>\n",
       "      <td>05-01-2009</td>\n",
       "      <td>Cobar</td>\n",
       "      <td>21.9</td>\n",
       "      <td>38.4</td>\n",
       "      <td>0.0</td>\n",
       "      <td>11.4</td>\n",
       "      <td>12.2</td>\n",
       "      <td>WNW</td>\n",
       "      <td>31</td>\n",
       "      <td>WNW</td>\n",
       "      <td>...</td>\n",
       "      <td>1</td>\n",
       "      <td>5</td>\n",
       "      <td>29.1</td>\n",
       "      <td>35.6</td>\n",
       "      <td>No</td>\n",
       "      <td>0.0</td>\n",
       "      <td>No</td>\n",
       "      <td>2009</td>\n",
       "      <td>1</td>\n",
       "      <td>5</td>\n",
       "    </tr>\n",
       "    <tr>\n",
       "      <th>4</th>\n",
       "      <td>06-01-2009</td>\n",
       "      <td>Cobar</td>\n",
       "      <td>24.2</td>\n",
       "      <td>41.0</td>\n",
       "      <td>0.0</td>\n",
       "      <td>11.2</td>\n",
       "      <td>8.4</td>\n",
       "      <td>WNW</td>\n",
       "      <td>35</td>\n",
       "      <td>NW</td>\n",
       "      <td>...</td>\n",
       "      <td>1</td>\n",
       "      <td>6</td>\n",
       "      <td>33.6</td>\n",
       "      <td>37.6</td>\n",
       "      <td>No</td>\n",
       "      <td>0.0</td>\n",
       "      <td>No</td>\n",
       "      <td>2009</td>\n",
       "      <td>1</td>\n",
       "      <td>6</td>\n",
       "    </tr>\n",
       "  </tbody>\n",
       "</table>\n",
       "<p>5 rows × 27 columns</p>\n",
       "</div>"
      ],
      "text/plain": [
       "         Date Location  MinTemp  MaxTemp  Rainfall  Evaporation  Sunshine  \\\n",
       "0  01-01-2009    Cobar     17.9     35.2       0.0         12.0      12.3   \n",
       "1  02-01-2009    Cobar     18.4     28.9       0.0         14.8      13.0   \n",
       "2  04-01-2009    Cobar     19.4     37.6       0.0         10.8      10.6   \n",
       "3  05-01-2009    Cobar     21.9     38.4       0.0         11.4      12.2   \n",
       "4  06-01-2009    Cobar     24.2     41.0       0.0         11.2       8.4   \n",
       "\n",
       "  WindGustDir  WindGustSpeed WindDir9am ...  Cloud9am  Cloud3pm  Temp9am  \\\n",
       "0         SSW             48        ENE ...         2         5     26.6   \n",
       "1           S             37        SSE ...         1         1     20.3   \n",
       "2         NNE             46        NNE ...         1         6     28.7   \n",
       "3         WNW             31        WNW ...         1         5     29.1   \n",
       "4         WNW             35         NW ...         1         6     33.6   \n",
       "\n",
       "   Temp3pm  RainToday  RISK_MM  RainTomorrow  Year  Month  Day  \n",
       "0     33.4         No      0.0            No  2009      1    1  \n",
       "1     27.0         No      0.0            No  2009      1    2  \n",
       "2     34.9         No      0.0            No  2009      1    4  \n",
       "3     35.6         No      0.0            No  2009      1    5  \n",
       "4     37.6         No      0.0            No  2009      1    6  \n",
       "\n",
       "[5 rows x 27 columns]"
      ]
     },
     "execution_count": 3,
     "metadata": {},
     "output_type": "execute_result"
    }
   ],
   "source": [
    "dataset.head()"
   ]
  },
  {
   "cell_type": "markdown",
   "metadata": {},
   "source": [
    "## Extracting Needed Columns "
   ]
  },
  {
   "cell_type": "code",
   "execution_count": 4,
   "metadata": {},
   "outputs": [],
   "source": [
    "dataset = dataset[['MinTemp', 'MaxTemp', 'Evaporation',\n",
    "        'Sunshine', 'WindGustSpeed','WindSpeed9am', 'WindSpeed3pm', 'Humidity9am', 'Humidity3pm',\n",
    "       'Pressure9am', 'Pressure3pm', 'Cloud9am', 'Cloud3pm', 'Temp9am',\n",
    "       'Temp3pm', 'RainTomorrow']].reset_index(drop=True)\n",
    "\n",
    "## change the data\n",
    "## Risk_MM\n",
    "\n",
    "## object \n",
    "## Date, Location, WindGustDir(object) , WindDir9am(object) , WindDir3pm(object), Year, Month, Day "
   ]
  },
  {
   "cell_type": "code",
   "execution_count": 5,
   "metadata": {},
   "outputs": [
    {
     "data": {
      "text/html": [
       "<div>\n",
       "<style scoped>\n",
       "    .dataframe tbody tr th:only-of-type {\n",
       "        vertical-align: middle;\n",
       "    }\n",
       "\n",
       "    .dataframe tbody tr th {\n",
       "        vertical-align: top;\n",
       "    }\n",
       "\n",
       "    .dataframe thead th {\n",
       "        text-align: right;\n",
       "    }\n",
       "</style>\n",
       "<table border=\"1\" class=\"dataframe\">\n",
       "  <thead>\n",
       "    <tr style=\"text-align: right;\">\n",
       "      <th></th>\n",
       "      <th>MinTemp</th>\n",
       "      <th>MaxTemp</th>\n",
       "      <th>Evaporation</th>\n",
       "      <th>Sunshine</th>\n",
       "      <th>WindGustSpeed</th>\n",
       "      <th>WindSpeed9am</th>\n",
       "      <th>WindSpeed3pm</th>\n",
       "      <th>Humidity9am</th>\n",
       "      <th>Humidity3pm</th>\n",
       "      <th>Pressure9am</th>\n",
       "      <th>Pressure3pm</th>\n",
       "      <th>Cloud9am</th>\n",
       "      <th>Cloud3pm</th>\n",
       "      <th>Temp9am</th>\n",
       "      <th>Temp3pm</th>\n",
       "      <th>RainTomorrow</th>\n",
       "    </tr>\n",
       "  </thead>\n",
       "  <tbody>\n",
       "    <tr>\n",
       "      <th>0</th>\n",
       "      <td>17.9</td>\n",
       "      <td>35.2</td>\n",
       "      <td>12.0</td>\n",
       "      <td>12.3</td>\n",
       "      <td>48</td>\n",
       "      <td>6</td>\n",
       "      <td>20</td>\n",
       "      <td>20</td>\n",
       "      <td>13</td>\n",
       "      <td>1006.3</td>\n",
       "      <td>1004.4</td>\n",
       "      <td>2</td>\n",
       "      <td>5</td>\n",
       "      <td>26.6</td>\n",
       "      <td>33.4</td>\n",
       "      <td>No</td>\n",
       "    </tr>\n",
       "    <tr>\n",
       "      <th>1</th>\n",
       "      <td>18.4</td>\n",
       "      <td>28.9</td>\n",
       "      <td>14.8</td>\n",
       "      <td>13.0</td>\n",
       "      <td>37</td>\n",
       "      <td>19</td>\n",
       "      <td>19</td>\n",
       "      <td>30</td>\n",
       "      <td>8</td>\n",
       "      <td>1012.9</td>\n",
       "      <td>1012.1</td>\n",
       "      <td>1</td>\n",
       "      <td>1</td>\n",
       "      <td>20.3</td>\n",
       "      <td>27.0</td>\n",
       "      <td>No</td>\n",
       "    </tr>\n",
       "    <tr>\n",
       "      <th>2</th>\n",
       "      <td>19.4</td>\n",
       "      <td>37.6</td>\n",
       "      <td>10.8</td>\n",
       "      <td>10.6</td>\n",
       "      <td>46</td>\n",
       "      <td>30</td>\n",
       "      <td>15</td>\n",
       "      <td>42</td>\n",
       "      <td>22</td>\n",
       "      <td>1012.3</td>\n",
       "      <td>1009.2</td>\n",
       "      <td>1</td>\n",
       "      <td>6</td>\n",
       "      <td>28.7</td>\n",
       "      <td>34.9</td>\n",
       "      <td>No</td>\n",
       "    </tr>\n",
       "    <tr>\n",
       "      <th>3</th>\n",
       "      <td>21.9</td>\n",
       "      <td>38.4</td>\n",
       "      <td>11.4</td>\n",
       "      <td>12.2</td>\n",
       "      <td>31</td>\n",
       "      <td>6</td>\n",
       "      <td>6</td>\n",
       "      <td>37</td>\n",
       "      <td>22</td>\n",
       "      <td>1012.7</td>\n",
       "      <td>1009.1</td>\n",
       "      <td>1</td>\n",
       "      <td>5</td>\n",
       "      <td>29.1</td>\n",
       "      <td>35.6</td>\n",
       "      <td>No</td>\n",
       "    </tr>\n",
       "    <tr>\n",
       "      <th>4</th>\n",
       "      <td>24.2</td>\n",
       "      <td>41.0</td>\n",
       "      <td>11.2</td>\n",
       "      <td>8.4</td>\n",
       "      <td>35</td>\n",
       "      <td>17</td>\n",
       "      <td>13</td>\n",
       "      <td>19</td>\n",
       "      <td>15</td>\n",
       "      <td>1010.7</td>\n",
       "      <td>1007.4</td>\n",
       "      <td>1</td>\n",
       "      <td>6</td>\n",
       "      <td>33.6</td>\n",
       "      <td>37.6</td>\n",
       "      <td>No</td>\n",
       "    </tr>\n",
       "  </tbody>\n",
       "</table>\n",
       "</div>"
      ],
      "text/plain": [
       "   MinTemp  MaxTemp  Evaporation  Sunshine  WindGustSpeed  WindSpeed9am  \\\n",
       "0     17.9     35.2         12.0      12.3             48             6   \n",
       "1     18.4     28.9         14.8      13.0             37            19   \n",
       "2     19.4     37.6         10.8      10.6             46            30   \n",
       "3     21.9     38.4         11.4      12.2             31             6   \n",
       "4     24.2     41.0         11.2       8.4             35            17   \n",
       "\n",
       "   WindSpeed3pm  Humidity9am  Humidity3pm  Pressure9am  Pressure3pm  Cloud9am  \\\n",
       "0            20           20           13       1006.3       1004.4         2   \n",
       "1            19           30            8       1012.9       1012.1         1   \n",
       "2            15           42           22       1012.3       1009.2         1   \n",
       "3             6           37           22       1012.7       1009.1         1   \n",
       "4            13           19           15       1010.7       1007.4         1   \n",
       "\n",
       "   Cloud3pm  Temp9am  Temp3pm RainTomorrow  \n",
       "0         5     26.6     33.4           No  \n",
       "1         1     20.3     27.0           No  \n",
       "2         6     28.7     34.9           No  \n",
       "3         5     29.1     35.6           No  \n",
       "4         6     33.6     37.6           No  "
      ]
     },
     "execution_count": 5,
     "metadata": {},
     "output_type": "execute_result"
    }
   ],
   "source": [
    "dataset.head()"
   ]
  },
  {
   "cell_type": "markdown",
   "metadata": {},
   "source": [
    "## Changing 'Rainfall Tommorrow' Column Values to Numeric"
   ]
  },
  {
   "cell_type": "code",
   "execution_count": 6,
   "metadata": {},
   "outputs": [],
   "source": [
    "dataset.RainTomorrow.replace(('Yes', 'No'), (1, 0), inplace=True)"
   ]
  },
  {
   "cell_type": "code",
   "execution_count": 7,
   "metadata": {},
   "outputs": [
    {
     "data": {
      "text/html": [
       "<div>\n",
       "<style scoped>\n",
       "    .dataframe tbody tr th:only-of-type {\n",
       "        vertical-align: middle;\n",
       "    }\n",
       "\n",
       "    .dataframe tbody tr th {\n",
       "        vertical-align: top;\n",
       "    }\n",
       "\n",
       "    .dataframe thead th {\n",
       "        text-align: right;\n",
       "    }\n",
       "</style>\n",
       "<table border=\"1\" class=\"dataframe\">\n",
       "  <thead>\n",
       "    <tr style=\"text-align: right;\">\n",
       "      <th></th>\n",
       "      <th>MinTemp</th>\n",
       "      <th>MaxTemp</th>\n",
       "      <th>Evaporation</th>\n",
       "      <th>Sunshine</th>\n",
       "      <th>WindGustSpeed</th>\n",
       "      <th>WindSpeed9am</th>\n",
       "      <th>WindSpeed3pm</th>\n",
       "      <th>Humidity9am</th>\n",
       "      <th>Humidity3pm</th>\n",
       "      <th>Pressure9am</th>\n",
       "      <th>Pressure3pm</th>\n",
       "      <th>Cloud9am</th>\n",
       "      <th>Cloud3pm</th>\n",
       "      <th>Temp9am</th>\n",
       "      <th>Temp3pm</th>\n",
       "      <th>RainTomorrow</th>\n",
       "    </tr>\n",
       "  </thead>\n",
       "  <tbody>\n",
       "    <tr>\n",
       "      <th>0</th>\n",
       "      <td>17.9</td>\n",
       "      <td>35.2</td>\n",
       "      <td>12.0</td>\n",
       "      <td>12.3</td>\n",
       "      <td>48</td>\n",
       "      <td>6</td>\n",
       "      <td>20</td>\n",
       "      <td>20</td>\n",
       "      <td>13</td>\n",
       "      <td>1006.3</td>\n",
       "      <td>1004.4</td>\n",
       "      <td>2</td>\n",
       "      <td>5</td>\n",
       "      <td>26.6</td>\n",
       "      <td>33.4</td>\n",
       "      <td>0</td>\n",
       "    </tr>\n",
       "    <tr>\n",
       "      <th>1</th>\n",
       "      <td>18.4</td>\n",
       "      <td>28.9</td>\n",
       "      <td>14.8</td>\n",
       "      <td>13.0</td>\n",
       "      <td>37</td>\n",
       "      <td>19</td>\n",
       "      <td>19</td>\n",
       "      <td>30</td>\n",
       "      <td>8</td>\n",
       "      <td>1012.9</td>\n",
       "      <td>1012.1</td>\n",
       "      <td>1</td>\n",
       "      <td>1</td>\n",
       "      <td>20.3</td>\n",
       "      <td>27.0</td>\n",
       "      <td>0</td>\n",
       "    </tr>\n",
       "    <tr>\n",
       "      <th>2</th>\n",
       "      <td>19.4</td>\n",
       "      <td>37.6</td>\n",
       "      <td>10.8</td>\n",
       "      <td>10.6</td>\n",
       "      <td>46</td>\n",
       "      <td>30</td>\n",
       "      <td>15</td>\n",
       "      <td>42</td>\n",
       "      <td>22</td>\n",
       "      <td>1012.3</td>\n",
       "      <td>1009.2</td>\n",
       "      <td>1</td>\n",
       "      <td>6</td>\n",
       "      <td>28.7</td>\n",
       "      <td>34.9</td>\n",
       "      <td>0</td>\n",
       "    </tr>\n",
       "    <tr>\n",
       "      <th>3</th>\n",
       "      <td>21.9</td>\n",
       "      <td>38.4</td>\n",
       "      <td>11.4</td>\n",
       "      <td>12.2</td>\n",
       "      <td>31</td>\n",
       "      <td>6</td>\n",
       "      <td>6</td>\n",
       "      <td>37</td>\n",
       "      <td>22</td>\n",
       "      <td>1012.7</td>\n",
       "      <td>1009.1</td>\n",
       "      <td>1</td>\n",
       "      <td>5</td>\n",
       "      <td>29.1</td>\n",
       "      <td>35.6</td>\n",
       "      <td>0</td>\n",
       "    </tr>\n",
       "    <tr>\n",
       "      <th>4</th>\n",
       "      <td>24.2</td>\n",
       "      <td>41.0</td>\n",
       "      <td>11.2</td>\n",
       "      <td>8.4</td>\n",
       "      <td>35</td>\n",
       "      <td>17</td>\n",
       "      <td>13</td>\n",
       "      <td>19</td>\n",
       "      <td>15</td>\n",
       "      <td>1010.7</td>\n",
       "      <td>1007.4</td>\n",
       "      <td>1</td>\n",
       "      <td>6</td>\n",
       "      <td>33.6</td>\n",
       "      <td>37.6</td>\n",
       "      <td>0</td>\n",
       "    </tr>\n",
       "  </tbody>\n",
       "</table>\n",
       "</div>"
      ],
      "text/plain": [
       "   MinTemp  MaxTemp  Evaporation  Sunshine  WindGustSpeed  WindSpeed9am  \\\n",
       "0     17.9     35.2         12.0      12.3             48             6   \n",
       "1     18.4     28.9         14.8      13.0             37            19   \n",
       "2     19.4     37.6         10.8      10.6             46            30   \n",
       "3     21.9     38.4         11.4      12.2             31             6   \n",
       "4     24.2     41.0         11.2       8.4             35            17   \n",
       "\n",
       "   WindSpeed3pm  Humidity9am  Humidity3pm  Pressure9am  Pressure3pm  Cloud9am  \\\n",
       "0            20           20           13       1006.3       1004.4         2   \n",
       "1            19           30            8       1012.9       1012.1         1   \n",
       "2            15           42           22       1012.3       1009.2         1   \n",
       "3             6           37           22       1012.7       1009.1         1   \n",
       "4            13           19           15       1010.7       1007.4         1   \n",
       "\n",
       "   Cloud3pm  Temp9am  Temp3pm  RainTomorrow  \n",
       "0         5     26.6     33.4             0  \n",
       "1         1     20.3     27.0             0  \n",
       "2         6     28.7     34.9             0  \n",
       "3         5     29.1     35.6             0  \n",
       "4         6     33.6     37.6             0  "
      ]
     },
     "execution_count": 7,
     "metadata": {},
     "output_type": "execute_result"
    }
   ],
   "source": [
    "dataset.head()"
   ]
  },
  {
   "cell_type": "markdown",
   "metadata": {},
   "source": [
    "# Baseline Model - Logistic Regression"
   ]
  },
  {
   "cell_type": "code",
   "execution_count": 34,
   "metadata": {},
   "outputs": [],
   "source": [
    "from sklearn.model_selection import train_test_split\n",
    "from sklearn.linear_model import LogisticRegression\n",
    "from sklearn.metrics import confusion_matrix,accuracy_score,classification_report\n",
    "from sklearn.metrics import roc_auc_score,roc_curve,scorer\n",
    "from sklearn.metrics import f1_score\n",
    "import statsmodels.api as sm\n",
    "from sklearn.metrics import precision_score,recall_score\n",
    "from yellowbrick.classifier import DiscriminationThreshold"
   ]
  },
  {
   "cell_type": "code",
   "execution_count": 35,
   "metadata": {},
   "outputs": [],
   "source": [
    "## Splitting Train and Test Data \n",
    "train,test = train_test_split(dataset,test_size = .25 ,random_state = 111)"
   ]
  },
  {
   "cell_type": "code",
   "execution_count": 36,
   "metadata": {},
   "outputs": [],
   "source": [
    "#Separating columns\n",
    "Id_col     = ['Date']\n",
    "target_col = [\"RainTomorrow\"]\n",
    "\n",
    "##Seperating Dependent and Independent Variables\n",
    "cols    = [i for i in dataset.columns if i not in Id_col + target_col]\n",
    "train_X = train[cols]\n",
    "train_Y = train[target_col]\n",
    "test_X  = test[cols]\n",
    "test_Y  = test[target_col]"
   ]
  },
  {
   "cell_type": "code",
   "execution_count": 37,
   "metadata": {},
   "outputs": [
    {
     "name": "stdout",
     "output_type": "stream",
     "text": [
      "LogisticRegression(C=1.0, class_weight=None, dual=False, fit_intercept=True,\n",
      "          intercept_scaling=1, max_iter=100, multi_class='ovr', n_jobs=1,\n",
      "          penalty='l2', random_state=None, solver='liblinear', tol=0.0001,\n",
      "          verbose=0, warm_start=False)\n",
      "\n",
      " Classification Report : \n",
      "               precision    recall  f1-score   support\n",
      "\n",
      "           0       0.88      0.94      0.91     11056\n",
      "           1       0.72      0.52      0.60      3049\n",
      "\n",
      "   micro avg       0.85      0.85      0.85     14105\n",
      "   macro avg       0.80      0.73      0.76     14105\n",
      "weighted avg       0.84      0.85      0.84     14105\n",
      "\n",
      "Accuracy   Score :  0.8516129032258064\n",
      "Area Under Curve :  0.7308813736467414 \n",
      "\n",
      "This is the format of your plot grid:\n",
      "[ (1,1) x1,y1 ]\n",
      "[ (2,1) x2,y2 ]\n",
      "\n"
     ]
    },
    {
     "data": {
      "application/vnd.plotly.v1+json": {
       "config": {
        "linkText": "Export to plot.ly",
        "plotlyServerURL": "https://plot.ly",
        "showLink": false
       },
       "data": [
        {
         "colorscale": "Picnic",
         "name": "matrix",
         "showscale": false,
         "type": "heatmap",
         "uid": "c2d9fe86-d1c6-4d97-b000-34917125dc95",
         "x": [
          "Not Rain",
          "Rain"
         ],
         "xaxis": "x",
         "y": [
          "Not Rain",
          "Rain"
         ],
         "yaxis": "y",
         "z": [
          [
           10432,
           624
          ],
          [
           1469,
           1580
          ]
         ]
        },
        {
         "marker": {
          "color": [
           0.1391988275623772,
           0.12207128148382168,
           0.07768227013664933,
           0.05898493953329521,
           0.03899385958578929,
           0.02737077565597801,
           0.008982224347357457,
           0.008469907534570055,
           -0.010124615285471433,
           -0.012053249885886444,
           -0.018458954563274396,
           -0.031034397905172557,
           -0.0313160711329106,
           -0.13047794508470864,
           -0.14121965225170163
          ],
          "colorscale": "Viridis",
          "line": {
           "color": "black",
           "width": 0.6
          }
         },
         "name": "coefficients",
         "type": "bar",
         "uid": "429200de-462b-45bf-a01a-5c0ebe8bb9f6",
         "x": [
          "Cloud3pm",
          "Pressure9am",
          "WindGustSpeed",
          "Humidity3pm",
          "Temp9am",
          "Temp3pm",
          "MaxTemp",
          "Humidity9am",
          "Cloud9am",
          "Evaporation",
          "WindSpeed9am",
          "MinTemp",
          "WindSpeed3pm",
          "Pressure3pm",
          "Sunshine"
         ],
         "xaxis": "x2",
         "y": [
          0.1391988275623772,
          0.12207128148382168,
          0.07768227013664933,
          0.05898493953329521,
          0.03899385958578929,
          0.02737077565597801,
          0.008982224347357457,
          0.008469907534570055,
          -0.010124615285471433,
          -0.012053249885886444,
          -0.018458954563274396,
          -0.031034397905172557,
          -0.0313160711329106,
          -0.13047794508470864,
          -0.14121965225170163
         ],
         "yaxis": "y2"
        }
       ],
       "layout": {
        "annotations": [
         {
          "font": {
           "size": 16
          },
          "showarrow": false,
          "text": "Confusion Matrix",
          "x": 0.5,
          "xanchor": "center",
          "xref": "paper",
          "y": 1,
          "yanchor": "bottom",
          "yref": "paper"
         },
         {
          "font": {
           "size": 16
          },
          "showarrow": false,
          "text": "Feature Importances",
          "x": 0.5,
          "xanchor": "center",
          "xref": "paper",
          "y": 0.375,
          "yanchor": "bottom",
          "yref": "paper"
         }
        ],
        "autosize": false,
        "height": 900,
        "margin": {
         "b": 195
        },
        "paper_bgcolor": "rgba(240,240,240, 0.95)",
        "plot_bgcolor": "rgba(240,240,240, 0.95)",
        "showlegend": false,
        "title": {
         "text": "Model Performance"
        },
        "width": 600,
        "xaxis": {
         "anchor": "y",
         "domain": [
          0,
          1
         ]
        },
        "xaxis2": {
         "anchor": "y2",
         "domain": [
          0,
          1
         ],
         "showgrid": true,
         "tickangle": 90,
         "tickfont": {
          "size": 10
         }
        },
        "yaxis": {
         "anchor": "x",
         "domain": [
          0.625,
          1
         ]
        },
        "yaxis2": {
         "anchor": "x2",
         "domain": [
          0,
          0.375
         ]
        }
       }
      },
      "text/html": [
       "<div id=\"c0e81f6a-cb7d-438a-809f-0039fc78a478\" style=\"height: 900px; width: 600px;\" class=\"plotly-graph-div\"></div><script type=\"text/javascript\">require([\"plotly\"], function(Plotly) { window.PLOTLYENV=window.PLOTLYENV || {};window.PLOTLYENV.BASE_URL=\"https://plot.ly\";\n",
       "if (document.getElementById(\"c0e81f6a-cb7d-438a-809f-0039fc78a478\")) {\n",
       "    Plotly.newPlot(\"c0e81f6a-cb7d-438a-809f-0039fc78a478\", [{\"colorscale\": \"Picnic\", \"name\": \"matrix\", \"showscale\": false, \"x\": [\"Not Rain\", \"Rain\"], \"y\": [\"Not Rain\", \"Rain\"], \"z\": [[10432, 624], [1469, 1580]], \"type\": \"heatmap\", \"uid\": \"c2d9fe86-d1c6-4d97-b000-34917125dc95\", \"xaxis\": \"x\", \"yaxis\": \"y\"}, {\"marker\": {\"color\": [0.1391988275623772, 0.12207128148382168, 0.07768227013664933, 0.05898493953329521, 0.03899385958578929, 0.02737077565597801, 0.008982224347357457, 0.008469907534570055, -0.010124615285471433, -0.012053249885886444, -0.018458954563274396, -0.031034397905172557, -0.0313160711329106, -0.13047794508470864, -0.14121965225170163], \"colorscale\": \"Viridis\", \"line\": {\"color\": \"black\", \"width\": 0.6}}, \"name\": \"coefficients\", \"x\": [\"Cloud3pm\", \"Pressure9am\", \"WindGustSpeed\", \"Humidity3pm\", \"Temp9am\", \"Temp3pm\", \"MaxTemp\", \"Humidity9am\", \"Cloud9am\", \"Evaporation\", \"WindSpeed9am\", \"MinTemp\", \"WindSpeed3pm\", \"Pressure3pm\", \"Sunshine\"], \"y\": [0.1391988275623772, 0.12207128148382168, 0.07768227013664933, 0.05898493953329521, 0.03899385958578929, 0.02737077565597801, 0.008982224347357457, 0.008469907534570055, -0.010124615285471433, -0.012053249885886444, -0.018458954563274396, -0.031034397905172557, -0.0313160711329106, -0.13047794508470864, -0.14121965225170163], \"type\": \"bar\", \"uid\": \"429200de-462b-45bf-a01a-5c0ebe8bb9f6\", \"xaxis\": \"x2\", \"yaxis\": \"y2\"}], {\"annotations\": [{\"font\": {\"size\": 16}, \"showarrow\": false, \"text\": \"Confusion Matrix\", \"x\": 0.5, \"xanchor\": \"center\", \"xref\": \"paper\", \"y\": 1.0, \"yanchor\": \"bottom\", \"yref\": \"paper\"}, {\"font\": {\"size\": 16}, \"showarrow\": false, \"text\": \"Feature Importances\", \"x\": 0.5, \"xanchor\": \"center\", \"xref\": \"paper\", \"y\": 0.375, \"yanchor\": \"bottom\", \"yref\": \"paper\"}], \"xaxis\": {\"anchor\": \"y\", \"domain\": [0.0, 1.0]}, \"yaxis\": {\"anchor\": \"x\", \"domain\": [0.625, 1.0]}, \"xaxis2\": {\"anchor\": \"y2\", \"domain\": [0.0, 1.0], \"tickfont\": {\"size\": 10}, \"showgrid\": true, \"tickangle\": 90}, \"yaxis2\": {\"anchor\": \"x2\", \"domain\": [0.0, 0.375]}, \"margin\": {\"b\": 195}, \"showlegend\": false, \"title\": {\"text\": \"Model Performance\"}, \"autosize\": false, \"height\": 900, \"width\": 600, \"plot_bgcolor\": \"rgba(240,240,240, 0.95)\", \"paper_bgcolor\": \"rgba(240,240,240, 0.95)\"}, {\"showLink\": false, \"linkText\": \"Export to plot.ly\", \"plotlyServerURL\": \"https://plot.ly\"}); \n",
       "}\n",
       "});</script>"
      ],
      "text/vnd.plotly.v1+html": [
       "<div id=\"c0e81f6a-cb7d-438a-809f-0039fc78a478\" style=\"height: 900px; width: 600px;\" class=\"plotly-graph-div\"></div><script type=\"text/javascript\">require([\"plotly\"], function(Plotly) { window.PLOTLYENV=window.PLOTLYENV || {};window.PLOTLYENV.BASE_URL=\"https://plot.ly\";\n",
       "if (document.getElementById(\"c0e81f6a-cb7d-438a-809f-0039fc78a478\")) {\n",
       "    Plotly.newPlot(\"c0e81f6a-cb7d-438a-809f-0039fc78a478\", [{\"colorscale\": \"Picnic\", \"name\": \"matrix\", \"showscale\": false, \"x\": [\"Not Rain\", \"Rain\"], \"y\": [\"Not Rain\", \"Rain\"], \"z\": [[10432, 624], [1469, 1580]], \"type\": \"heatmap\", \"uid\": \"c2d9fe86-d1c6-4d97-b000-34917125dc95\", \"xaxis\": \"x\", \"yaxis\": \"y\"}, {\"marker\": {\"color\": [0.1391988275623772, 0.12207128148382168, 0.07768227013664933, 0.05898493953329521, 0.03899385958578929, 0.02737077565597801, 0.008982224347357457, 0.008469907534570055, -0.010124615285471433, -0.012053249885886444, -0.018458954563274396, -0.031034397905172557, -0.0313160711329106, -0.13047794508470864, -0.14121965225170163], \"colorscale\": \"Viridis\", \"line\": {\"color\": \"black\", \"width\": 0.6}}, \"name\": \"coefficients\", \"x\": [\"Cloud3pm\", \"Pressure9am\", \"WindGustSpeed\", \"Humidity3pm\", \"Temp9am\", \"Temp3pm\", \"MaxTemp\", \"Humidity9am\", \"Cloud9am\", \"Evaporation\", \"WindSpeed9am\", \"MinTemp\", \"WindSpeed3pm\", \"Pressure3pm\", \"Sunshine\"], \"y\": [0.1391988275623772, 0.12207128148382168, 0.07768227013664933, 0.05898493953329521, 0.03899385958578929, 0.02737077565597801, 0.008982224347357457, 0.008469907534570055, -0.010124615285471433, -0.012053249885886444, -0.018458954563274396, -0.031034397905172557, -0.0313160711329106, -0.13047794508470864, -0.14121965225170163], \"type\": \"bar\", \"uid\": \"429200de-462b-45bf-a01a-5c0ebe8bb9f6\", \"xaxis\": \"x2\", \"yaxis\": \"y2\"}], {\"annotations\": [{\"font\": {\"size\": 16}, \"showarrow\": false, \"text\": \"Confusion Matrix\", \"x\": 0.5, \"xanchor\": \"center\", \"xref\": \"paper\", \"y\": 1.0, \"yanchor\": \"bottom\", \"yref\": \"paper\"}, {\"font\": {\"size\": 16}, \"showarrow\": false, \"text\": \"Feature Importances\", \"x\": 0.5, \"xanchor\": \"center\", \"xref\": \"paper\", \"y\": 0.375, \"yanchor\": \"bottom\", \"yref\": \"paper\"}], \"xaxis\": {\"anchor\": \"y\", \"domain\": [0.0, 1.0]}, \"yaxis\": {\"anchor\": \"x\", \"domain\": [0.625, 1.0]}, \"xaxis2\": {\"anchor\": \"y2\", \"domain\": [0.0, 1.0], \"tickfont\": {\"size\": 10}, \"showgrid\": true, \"tickangle\": 90}, \"yaxis2\": {\"anchor\": \"x2\", \"domain\": [0.0, 0.375]}, \"margin\": {\"b\": 195}, \"showlegend\": false, \"title\": {\"text\": \"Model Performance\"}, \"autosize\": false, \"height\": 900, \"width\": 600, \"plot_bgcolor\": \"rgba(240,240,240, 0.95)\", \"paper_bgcolor\": \"rgba(240,240,240, 0.95)\"}, {\"showLink\": false, \"linkText\": \"Export to plot.ly\", \"plotlyServerURL\": \"https://plot.ly\"}); \n",
       "}\n",
       "});</script>"
      ]
     },
     "metadata": {},
     "output_type": "display_data"
    },
    {
     "data": {
      "image/png": "[encoded data removed]",
      "text/plain": [
       "<Figure size 576x396 with 1 Axes>"
      ]
     },
     "metadata": {},
     "output_type": "display_data"
    }
   ],
   "source": [
    "def rain_prediction(algorithm,training_x,testing_x,\n",
    "                             training_y,testing_y,cols,cf,threshold_plot) :\n",
    "    \n",
    "    #model\n",
    "    algorithm.fit(training_x,training_y)\n",
    "    predictions   = algorithm.predict(testing_x)\n",
    "    probabilities = algorithm.predict_proba(testing_x)\n",
    "    \n",
    "    #coeffs\n",
    "    if   cf == \"coefficients\" :\n",
    "        coefficients  = pd.DataFrame(algorithm.coef_.ravel())\n",
    "    elif cf == \"features\" :\n",
    "        coefficients  = pd.DataFrame(algorithm.feature_importances_)\n",
    "        \n",
    "    column_df     = pd.DataFrame(cols)\n",
    "    coef_sumry    = (pd.merge(coefficients,column_df,left_index= True,\n",
    "                              right_index= True, how = \"left\"))\n",
    "    coef_sumry.columns = [\"coefficients\",\"features\"]\n",
    "    coef_sumry    = coef_sumry.sort_values(by = \"coefficients\",ascending = False)\n",
    "    \n",
    "    print (algorithm)\n",
    "    print (\"\\n Classification Report : \\n\",classification_report(testing_y,predictions))\n",
    "    print (\"Accuracy   Score : \",accuracy_score(testing_y,predictions))\n",
    "    \n",
    "    #confusion matrix\n",
    "    conf_matrix = confusion_matrix(testing_y,predictions)\n",
    "    \n",
    "    #roc_auc_score\n",
    "    model_roc_auc = roc_auc_score(testing_y,predictions) \n",
    "    print (\"Area Under Curve : \",model_roc_auc,\"\\n\")\n",
    "    fpr,tpr,thresholds = roc_curve(testing_y,probabilities[:,1])\n",
    "    \n",
    "    #plot confusion matrix\n",
    "    trace1 = go.Heatmap(z = conf_matrix ,\n",
    "                        x = [\"Not Rain\",\"Rain\"],\n",
    "                        y = [\"Not Rain\",\"Rain\"],\n",
    "                        showscale  = False,colorscale = \"Picnic\",\n",
    "                        name = \"matrix\")\n",
    "    \n",
    "    #plot coeffs\n",
    "    trace2 = go.Bar(x = coef_sumry[\"features\"],y = coef_sumry[\"coefficients\"],\n",
    "                    name = \"coefficients\",\n",
    "                    marker = dict(color = coef_sumry[\"coefficients\"],\n",
    "                                  colorscale = \"Viridis\",\n",
    "                                  line = dict(width = .6,color = \"black\")))\n",
    "    \n",
    "    #subplots\n",
    "    fig = tls.make_subplots(rows=2, cols=1, subplot_titles=('Confusion Matrix','Feature Importances'))\n",
    "    \n",
    "    fig.append_trace(trace1,1,1)\n",
    "    fig.append_trace(trace2,2,1)\n",
    "    \n",
    "    fig['layout'].update(showlegend=False, title=\"Model Performance\" ,\n",
    "                         autosize = False,height = 900,width = 600,\n",
    "                         plot_bgcolor = 'rgba(240,240,240, 0.95)',\n",
    "                         paper_bgcolor = 'rgba(240,240,240, 0.95)',\n",
    "                         margin = dict(b = 195))\n",
    "    fig[\"layout\"][\"xaxis2\"].update(dict(showgrid = True,tickfont = dict(size = 10),\n",
    "                                        tickangle = 90))\n",
    "    py.iplot(fig)\n",
    "    \n",
    "    if threshold_plot == True : \n",
    "        visualizer = DiscriminationThreshold(algorithm)\n",
    "        visualizer.fit(training_x,training_y)\n",
    "        visualizer.poof()\n",
    "        \n",
    "logit  = LogisticRegression(C=1.0, class_weight=None, dual=False, fit_intercept=True,\n",
    "          intercept_scaling=1, max_iter=100, multi_class='ovr', n_jobs=1,\n",
    "          penalty='l2', random_state=None, solver='liblinear', tol=0.0001,\n",
    "          verbose=0, warm_start=False)\n",
    "\n",
    "rain_prediction(logit,train_X,test_X,train_Y,test_Y,\n",
    "                         cols,\"coefficients\",threshold_plot = True)\n",
    "\n",
    "    "
   ]
  },
  {
   "cell_type": "markdown",
   "metadata": {},
   "source": [
    "# Random Forest"
   ]
  },
  {
   "cell_type": "code",
   "execution_count": 41,
   "metadata": {},
   "outputs": [],
   "source": [
    "from sklearn.ensemble import RandomForestClassifier"
   ]
  },
  {
   "cell_type": "code",
   "execution_count": 42,
   "metadata": {},
   "outputs": [
    {
     "name": "stdout",
     "output_type": "stream",
     "text": [
      "RandomForestClassifier(bootstrap=True, class_weight=None, criterion='entropy',\n",
      "            max_depth=3, max_features='auto', max_leaf_nodes=None,\n",
      "            min_impurity_decrease=0.0, min_impurity_split=None,\n",
      "            min_samples_leaf=1, min_samples_split=2,\n",
      "            min_weight_fraction_leaf=0.0, n_estimators=100, n_jobs=None,\n",
      "            oob_score=False, random_state=None, verbose=0,\n",
      "            warm_start=False)\n",
      "\n",
      " Classification Report : \n",
      "               precision    recall  f1-score   support\n",
      "\n",
      "           0       0.83      0.99      0.90     11056\n",
      "           1       0.85      0.29      0.44      3049\n",
      "\n",
      "   micro avg       0.84      0.84      0.84     14105\n",
      "   macro avg       0.84      0.64      0.67     14105\n",
      "weighted avg       0.84      0.84      0.80     14105\n",
      "\n",
      "Accuracy   Score :  0.8357320099255583\n",
      "Area Under Curve :  0.6395166335288693 \n",
      "\n",
      "This is the format of your plot grid:\n",
      "[ (1,1) x1,y1 ]\n",
      "[ (2,1) x2,y2 ]\n",
      "\n"
     ]
    },
    {
     "data": {
      "application/vnd.plotly.v1+json": {
       "config": {
        "linkText": "Export to plot.ly",
        "plotlyServerURL": "https://plot.ly",
        "showLink": false
       },
       "data": [
        {
         "colorscale": "Picnic",
         "name": "matrix",
         "showscale": false,
         "type": "heatmap",
         "uid": "85a13ae2-19d1-4a6d-bdc4-0f3ee261e694",
         "x": [
          "Not Rain",
          "Rain"
         ],
         "xaxis": "x",
         "y": [
          "Not Rain",
          "Rain"
         ],
         "yaxis": "y",
         "z": [
          [
           10892,
           164
          ],
          [
           2153,
           896
          ]
         ]
        },
        {
         "marker": {
          "color": [
           0.25831771153244554,
           0.24501484098580895,
           0.1879462985947053,
           0.0638832837431838,
           0.061054475678047684,
           0.05212965908559004,
           0.049539397404899946,
           0.04891002662352773,
           0.011623610330753353,
           0.007319992167618358,
           0.006014345019246787,
           0.003459179391430613,
           0.0021130190522326738,
           0.0018226459389495825,
           0.0008515144515595896
          ],
          "colorscale": "Viridis",
          "line": {
           "color": "black",
           "width": 0.6
          }
         },
         "name": "coefficients",
         "type": "bar",
         "uid": "33ab66ea-52dc-4d6e-ae64-b0acf0a495e2",
         "x": [
          "Humidity3pm",
          "Sunshine",
          "Cloud3pm",
          "Cloud9am",
          "Humidity9am",
          "WindGustSpeed",
          "Pressure9am",
          "Pressure3pm",
          "Temp3pm",
          "MaxTemp",
          "Evaporation",
          "MinTemp",
          "WindSpeed9am",
          "Temp9am",
          "WindSpeed3pm"
         ],
         "xaxis": "x2",
         "y": [
          0.25831771153244554,
          0.24501484098580895,
          0.1879462985947053,
          0.0638832837431838,
          0.061054475678047684,
          0.05212965908559004,
          0.049539397404899946,
          0.04891002662352773,
          0.011623610330753353,
          0.007319992167618358,
          0.006014345019246787,
          0.003459179391430613,
          0.0021130190522326738,
          0.0018226459389495825,
          0.0008515144515595896
         ],
         "yaxis": "y2"
        }
       ],
       "layout": {
        "annotations": [
         {
          "font": {
           "size": 16
          },
          "showarrow": false,
          "text": "Confusion Matrix",
          "x": 0.5,
          "xanchor": "center",
          "xref": "paper",
          "y": 1,
          "yanchor": "bottom",
          "yref": "paper"
         },
         {
          "font": {
           "size": 16
          },
          "showarrow": false,
          "text": "Feature Importances",
          "x": 0.5,
          "xanchor": "center",
          "xref": "paper",
          "y": 0.375,
          "yanchor": "bottom",
          "yref": "paper"
         }
        ],
        "autosize": false,
        "height": 900,
        "margin": {
         "b": 195
        },
        "paper_bgcolor": "rgba(240,240,240, 0.95)",
        "plot_bgcolor": "rgba(240,240,240, 0.95)",
        "showlegend": false,
        "title": {
         "text": "Model Performance"
        },
        "width": 600,
        "xaxis": {
         "anchor": "y",
         "domain": [
          0,
          1
         ]
        },
        "xaxis2": {
         "anchor": "y2",
         "domain": [
          0,
          1
         ],
         "showgrid": true,
         "tickangle": 90,
         "tickfont": {
          "size": 10
         }
        },
        "yaxis": {
         "anchor": "x",
         "domain": [
          0.625,
          1
         ]
        },
        "yaxis2": {
         "anchor": "x2",
         "domain": [
          0,
          0.375
         ]
        }
       }
      },
      "text/html": [
       "<div id=\"6c24c69a-37c0-48e3-a6e1-5edf282d5b42\" style=\"height: 900px; width: 600px;\" class=\"plotly-graph-div\"></div><script type=\"text/javascript\">require([\"plotly\"], function(Plotly) { window.PLOTLYENV=window.PLOTLYENV || {};window.PLOTLYENV.BASE_URL=\"https://plot.ly\";\n",
       "if (document.getElementById(\"6c24c69a-37c0-48e3-a6e1-5edf282d5b42\")) {\n",
       "    Plotly.newPlot(\"6c24c69a-37c0-48e3-a6e1-5edf282d5b42\", [{\"colorscale\": \"Picnic\", \"name\": \"matrix\", \"showscale\": false, \"x\": [\"Not Rain\", \"Rain\"], \"y\": [\"Not Rain\", \"Rain\"], \"z\": [[10892, 164], [2153, 896]], \"type\": \"heatmap\", \"uid\": \"85a13ae2-19d1-4a6d-bdc4-0f3ee261e694\", \"xaxis\": \"x\", \"yaxis\": \"y\"}, {\"marker\": {\"color\": [0.25831771153244554, 0.24501484098580895, 0.1879462985947053, 0.0638832837431838, 0.061054475678047684, 0.05212965908559004, 0.049539397404899946, 0.04891002662352773, 0.011623610330753353, 0.007319992167618358, 0.006014345019246787, 0.003459179391430613, 0.0021130190522326738, 0.0018226459389495825, 0.0008515144515595896], \"colorscale\": \"Viridis\", \"line\": {\"color\": \"black\", \"width\": 0.6}}, \"name\": \"coefficients\", \"x\": [\"Humidity3pm\", \"Sunshine\", \"Cloud3pm\", \"Cloud9am\", \"Humidity9am\", \"WindGustSpeed\", \"Pressure9am\", \"Pressure3pm\", \"Temp3pm\", \"MaxTemp\", \"Evaporation\", \"MinTemp\", \"WindSpeed9am\", \"Temp9am\", \"WindSpeed3pm\"], \"y\": [0.25831771153244554, 0.24501484098580895, 0.1879462985947053, 0.0638832837431838, 0.061054475678047684, 0.05212965908559004, 0.049539397404899946, 0.04891002662352773, 0.011623610330753353, 0.007319992167618358, 0.006014345019246787, 0.003459179391430613, 0.0021130190522326738, 0.0018226459389495825, 0.0008515144515595896], \"type\": \"bar\", \"uid\": \"33ab66ea-52dc-4d6e-ae64-b0acf0a495e2\", \"xaxis\": \"x2\", \"yaxis\": \"y2\"}], {\"annotations\": [{\"font\": {\"size\": 16}, \"showarrow\": false, \"text\": \"Confusion Matrix\", \"x\": 0.5, \"xanchor\": \"center\", \"xref\": \"paper\", \"y\": 1.0, \"yanchor\": \"bottom\", \"yref\": \"paper\"}, {\"font\": {\"size\": 16}, \"showarrow\": false, \"text\": \"Feature Importances\", \"x\": 0.5, \"xanchor\": \"center\", \"xref\": \"paper\", \"y\": 0.375, \"yanchor\": \"bottom\", \"yref\": \"paper\"}], \"xaxis\": {\"anchor\": \"y\", \"domain\": [0.0, 1.0]}, \"yaxis\": {\"anchor\": \"x\", \"domain\": [0.625, 1.0]}, \"xaxis2\": {\"anchor\": \"y2\", \"domain\": [0.0, 1.0], \"tickfont\": {\"size\": 10}, \"showgrid\": true, \"tickangle\": 90}, \"yaxis2\": {\"anchor\": \"x2\", \"domain\": [0.0, 0.375]}, \"margin\": {\"b\": 195}, \"showlegend\": false, \"title\": {\"text\": \"Model Performance\"}, \"autosize\": false, \"height\": 900, \"width\": 600, \"plot_bgcolor\": \"rgba(240,240,240, 0.95)\", \"paper_bgcolor\": \"rgba(240,240,240, 0.95)\"}, {\"showLink\": false, \"linkText\": \"Export to plot.ly\", \"plotlyServerURL\": \"https://plot.ly\"}); \n",
       "}\n",
       "});</script>"
      ],
      "text/vnd.plotly.v1+html": [
       "<div id=\"6c24c69a-37c0-48e3-a6e1-5edf282d5b42\" style=\"height: 900px; width: 600px;\" class=\"plotly-graph-div\"></div><script type=\"text/javascript\">require([\"plotly\"], function(Plotly) { window.PLOTLYENV=window.PLOTLYENV || {};window.PLOTLYENV.BASE_URL=\"https://plot.ly\";\n",
       "if (document.getElementById(\"6c24c69a-37c0-48e3-a6e1-5edf282d5b42\")) {\n",
       "    Plotly.newPlot(\"6c24c69a-37c0-48e3-a6e1-5edf282d5b42\", [{\"colorscale\": \"Picnic\", \"name\": \"matrix\", \"showscale\": false, \"x\": [\"Not Rain\", \"Rain\"], \"y\": [\"Not Rain\", \"Rain\"], \"z\": [[10892, 164], [2153, 896]], \"type\": \"heatmap\", \"uid\": \"85a13ae2-19d1-4a6d-bdc4-0f3ee261e694\", \"xaxis\": \"x\", \"yaxis\": \"y\"}, {\"marker\": {\"color\": [0.25831771153244554, 0.24501484098580895, 0.1879462985947053, 0.0638832837431838, 0.061054475678047684, 0.05212965908559004, 0.049539397404899946, 0.04891002662352773, 0.011623610330753353, 0.007319992167618358, 0.006014345019246787, 0.003459179391430613, 0.0021130190522326738, 0.0018226459389495825, 0.0008515144515595896], \"colorscale\": \"Viridis\", \"line\": {\"color\": \"black\", \"width\": 0.6}}, \"name\": \"coefficients\", \"x\": [\"Humidity3pm\", \"Sunshine\", \"Cloud3pm\", \"Cloud9am\", \"Humidity9am\", \"WindGustSpeed\", \"Pressure9am\", \"Pressure3pm\", \"Temp3pm\", \"MaxTemp\", \"Evaporation\", \"MinTemp\", \"WindSpeed9am\", \"Temp9am\", \"WindSpeed3pm\"], \"y\": [0.25831771153244554, 0.24501484098580895, 0.1879462985947053, 0.0638832837431838, 0.061054475678047684, 0.05212965908559004, 0.049539397404899946, 0.04891002662352773, 0.011623610330753353, 0.007319992167618358, 0.006014345019246787, 0.003459179391430613, 0.0021130190522326738, 0.0018226459389495825, 0.0008515144515595896], \"type\": \"bar\", \"uid\": \"33ab66ea-52dc-4d6e-ae64-b0acf0a495e2\", \"xaxis\": \"x2\", \"yaxis\": \"y2\"}], {\"annotations\": [{\"font\": {\"size\": 16}, \"showarrow\": false, \"text\": \"Confusion Matrix\", \"x\": 0.5, \"xanchor\": \"center\", \"xref\": \"paper\", \"y\": 1.0, \"yanchor\": \"bottom\", \"yref\": \"paper\"}, {\"font\": {\"size\": 16}, \"showarrow\": false, \"text\": \"Feature Importances\", \"x\": 0.5, \"xanchor\": \"center\", \"xref\": \"paper\", \"y\": 0.375, \"yanchor\": \"bottom\", \"yref\": \"paper\"}], \"xaxis\": {\"anchor\": \"y\", \"domain\": [0.0, 1.0]}, \"yaxis\": {\"anchor\": \"x\", \"domain\": [0.625, 1.0]}, \"xaxis2\": {\"anchor\": \"y2\", \"domain\": [0.0, 1.0], \"tickfont\": {\"size\": 10}, \"showgrid\": true, \"tickangle\": 90}, \"yaxis2\": {\"anchor\": \"x2\", \"domain\": [0.0, 0.375]}, \"margin\": {\"b\": 195}, \"showlegend\": false, \"title\": {\"text\": \"Model Performance\"}, \"autosize\": false, \"height\": 900, \"width\": 600, \"plot_bgcolor\": \"rgba(240,240,240, 0.95)\", \"paper_bgcolor\": \"rgba(240,240,240, 0.95)\"}, {\"showLink\": false, \"linkText\": \"Export to plot.ly\", \"plotlyServerURL\": \"https://plot.ly\"}); \n",
       "}\n",
       "});</script>"
      ]
     },
     "metadata": {},
     "output_type": "display_data"
    },
    {
     "data": {
      "image/png": "[encoded data removed]",
      "text/plain": [
       "<Figure size 576x396 with 1 Axes>"
      ]
     },
     "metadata": {},
     "output_type": "display_data"
    }
   ],
   "source": [
    "def randomforest(cols,nf_estimators,\n",
    "                           estimated_tree,maximum_depth,\n",
    "                           criterion_type,model_performance = None) :\n",
    "    \n",
    "    dataframe = dataset[cols + target_col].copy()\n",
    "    \n",
    "    #train and test datasets\n",
    "    rf_x     = dataframe[[i for i in cols if i not in target_col]]\n",
    "    rf_y     = dataframe[target_col]\n",
    "    \n",
    "    #random forest classifier\n",
    "    rfc   = RandomForestClassifier(n_estimators = nf_estimators,\n",
    "                                   max_depth = maximum_depth,\n",
    "                                   criterion = criterion_type,\n",
    "                                  )\n",
    "    rfc.fit(rf_x,rf_y)\n",
    "    \n",
    "    #model performance\n",
    "    if model_performance == True :\n",
    "                 rain_prediction(rfc,\n",
    "                                 rf_x,test_X,\n",
    "                                 rf_y,test_Y,\n",
    "                                 cols,\"features\",threshold_plot = True)\n",
    "        \n",
    "\n",
    "cols1 = [ i for i in train_X if i not in target_col + Id_col] \n",
    "randomforest(cols1,100,99,3,\"entropy\",True)"
   ]
  },
  {
   "cell_type": "markdown",
   "metadata": {},
   "source": [
    "# Model Performance"
   ]
  },
  {
   "cell_type": "code",
   "execution_count": 43,
   "metadata": {},
   "outputs": [],
   "source": [
    "from sklearn.metrics import f1_score\n",
    "from sklearn.metrics import cohen_kappa_score"
   ]
  },
  {
   "cell_type": "code",
   "execution_count": 44,
   "metadata": {},
   "outputs": [],
   "source": [
    "#gives model report in dataframe\n",
    "def model_report(model,training_x,testing_x,training_y,testing_y,name) :\n",
    "    model.fit(training_x,training_y)\n",
    "    predictions  = model.predict(testing_x)\n",
    "    accuracy     = accuracy_score(testing_y,predictions)\n",
    "    recallscore  = recall_score(testing_y,predictions)\n",
    "    precision    = precision_score(testing_y,predictions)\n",
    "    roc_auc      = roc_auc_score(testing_y,predictions)\n",
    "    f1score      = f1_score(testing_y,predictions) \n",
    "    kappa_metric = cohen_kappa_score(testing_y,predictions)\n",
    "    \n",
    "    df = pd.DataFrame({\"Model\"           : [name],\n",
    "                       \"Accuracy_score\"  : [accuracy],\n",
    "                       \"Recall_score\"    : [recallscore],\n",
    "                       \"Precision\"       : [precision],\n",
    "                       \"f1_score\"        : [f1score],\n",
    "                       \"Area_under_curve\": [roc_auc],\n",
    "                      })\n",
    "    return df\n"
   ]
  },
  {
   "cell_type": "code",
   "execution_count": 45,
   "metadata": {},
   "outputs": [],
   "source": [
    "#outputs for every model\n",
    "model1 = model_report(logit,train_X,test_X,train_Y,test_Y,\n",
    "                      \"LogReg(Baseline)\")\n",
    "rfc = RandomForestClassifier(n_estimators = 1000,\n",
    "                             random_state = 123,\n",
    "                             max_depth = 9,\n",
    "                             criterion = \"gini\")\n",
    "model2 = model_report(rfc,train_X,test_X,train_Y,test_Y,\n",
    "                      \"Random Forest\")\n"
   ]
  },
  {
   "cell_type": "code",
   "execution_count": 46,
   "metadata": {},
   "outputs": [
    {
     "data": {
      "application/vnd.plotly.v1+json": {
       "config": {
        "linkText": "Export to plot.ly",
        "plotlyServerURL": "https://plot.ly",
        "showLink": false
       },
       "data": [
        {
         "colorscale": [
          [
           0,
           "#00083e"
          ],
          [
           0.5,
           "#ededee"
          ],
          [
           1,
           "#ffffff"
          ]
         ],
         "hoverinfo": "none",
         "opacity": 0.75,
         "showscale": false,
         "type": "heatmap",
         "uid": "e9587cd3-a920-43ce-adf6-405f03fdba38",
         "z": [
          [
           0,
           0,
           0,
           0,
           0,
           0
          ],
          [
           0.5,
           0.5,
           0.5,
           0.5,
           0.5,
           0.5
          ],
          [
           1,
           1,
           1,
           1,
           1,
           1
          ]
         ]
        }
       ],
       "layout": {
        "annotations": [
         {
          "align": "left",
          "font": {
           "color": "#ffffff"
          },
          "showarrow": false,
          "text": "<b>Model</b>",
          "x": -0.45,
          "xanchor": "left",
          "xref": "x",
          "y": 0,
          "yref": "y"
         },
         {
          "align": "left",
          "font": {
           "color": "#ffffff"
          },
          "showarrow": false,
          "text": "<b>Accuracy_score</b>",
          "x": 0.55,
          "xanchor": "left",
          "xref": "x",
          "y": 0,
          "yref": "y"
         },
         {
          "align": "left",
          "font": {
           "color": "#ffffff"
          },
          "showarrow": false,
          "text": "<b>Recall_score</b>",
          "x": 1.55,
          "xanchor": "left",
          "xref": "x",
          "y": 0,
          "yref": "y"
         },
         {
          "align": "left",
          "font": {
           "color": "#ffffff"
          },
          "showarrow": false,
          "text": "<b>Precision</b>",
          "x": 2.55,
          "xanchor": "left",
          "xref": "x",
          "y": 0,
          "yref": "y"
         },
         {
          "align": "left",
          "font": {
           "color": "#ffffff"
          },
          "showarrow": false,
          "text": "<b>f1_score</b>",
          "x": 3.55,
          "xanchor": "left",
          "xref": "x",
          "y": 0,
          "yref": "y"
         },
         {
          "align": "left",
          "font": {
           "color": "#ffffff"
          },
          "showarrow": false,
          "text": "<b>Area_under_curve</b>",
          "x": 4.55,
          "xanchor": "left",
          "xref": "x",
          "y": 0,
          "yref": "y"
         },
         {
          "align": "left",
          "font": {
           "color": "#000000"
          },
          "showarrow": false,
          "text": "LogReg(Baseline)",
          "x": -0.45,
          "xanchor": "left",
          "xref": "x",
          "y": 1,
          "yref": "y"
         },
         {
          "align": "left",
          "font": {
           "color": "#000000"
          },
          "showarrow": false,
          "text": "0.85",
          "x": 0.55,
          "xanchor": "left",
          "xref": "x",
          "y": 1,
          "yref": "y"
         },
         {
          "align": "left",
          "font": {
           "color": "#000000"
          },
          "showarrow": false,
          "text": "0.52",
          "x": 1.55,
          "xanchor": "left",
          "xref": "x",
          "y": 1,
          "yref": "y"
         },
         {
          "align": "left",
          "font": {
           "color": "#000000"
          },
          "showarrow": false,
          "text": "0.72",
          "x": 2.55,
          "xanchor": "left",
          "xref": "x",
          "y": 1,
          "yref": "y"
         },
         {
          "align": "left",
          "font": {
           "color": "#000000"
          },
          "showarrow": false,
          "text": "0.6",
          "x": 3.55,
          "xanchor": "left",
          "xref": "x",
          "y": 1,
          "yref": "y"
         },
         {
          "align": "left",
          "font": {
           "color": "#000000"
          },
          "showarrow": false,
          "text": "0.73",
          "x": 4.55,
          "xanchor": "left",
          "xref": "x",
          "y": 1,
          "yref": "y"
         },
         {
          "align": "left",
          "font": {
           "color": "#000000"
          },
          "showarrow": false,
          "text": "Random Forest",
          "x": -0.45,
          "xanchor": "left",
          "xref": "x",
          "y": 2,
          "yref": "y"
         },
         {
          "align": "left",
          "font": {
           "color": "#000000"
          },
          "showarrow": false,
          "text": "0.86",
          "x": 0.55,
          "xanchor": "left",
          "xref": "x",
          "y": 2,
          "yref": "y"
         },
         {
          "align": "left",
          "font": {
           "color": "#000000"
          },
          "showarrow": false,
          "text": "0.48",
          "x": 1.55,
          "xanchor": "left",
          "xref": "x",
          "y": 2,
          "yref": "y"
         },
         {
          "align": "left",
          "font": {
           "color": "#000000"
          },
          "showarrow": false,
          "text": "0.77",
          "x": 2.55,
          "xanchor": "left",
          "xref": "x",
          "y": 2,
          "yref": "y"
         },
         {
          "align": "left",
          "font": {
           "color": "#000000"
          },
          "showarrow": false,
          "text": "0.59",
          "x": 3.55,
          "xanchor": "left",
          "xref": "x",
          "y": 2,
          "yref": "y"
         },
         {
          "align": "left",
          "font": {
           "color": "#000000"
          },
          "showarrow": false,
          "text": "0.72",
          "x": 4.55,
          "xanchor": "left",
          "xref": "x",
          "y": 2,
          "yref": "y"
         }
        ],
        "height": 140,
        "margin": {
         "b": 0,
         "l": 0,
         "r": 0,
         "t": 0
        },
        "xaxis": {
         "dtick": 1,
         "gridwidth": 2,
         "showticklabels": false,
         "tick0": -0.5,
         "ticks": "",
         "zeroline": false
        },
        "yaxis": {
         "autorange": "reversed",
         "dtick": 1,
         "gridwidth": 2,
         "showticklabels": false,
         "tick0": 0.5,
         "ticks": "",
         "zeroline": false
        }
       }
      },
      "text/html": [
       "<div id=\"b9e6d746-142f-4aa2-817b-e9c0bfbd0733\" style=\"height: 140px; width: 100%;\" class=\"plotly-graph-div\"></div><script type=\"text/javascript\">require([\"plotly\"], function(Plotly) { window.PLOTLYENV=window.PLOTLYENV || {};window.PLOTLYENV.BASE_URL=\"https://plot.ly\";\n",
       "if (document.getElementById(\"b9e6d746-142f-4aa2-817b-e9c0bfbd0733\")) {\n",
       "    Plotly.newPlot(\"b9e6d746-142f-4aa2-817b-e9c0bfbd0733\", [{\"colorscale\": [[0, \"#00083e\"], [0.5, \"#ededee\"], [1, \"#ffffff\"]], \"hoverinfo\": \"none\", \"opacity\": 0.75, \"showscale\": false, \"z\": [[0, 0, 0, 0, 0, 0], [0.5, 0.5, 0.5, 0.5, 0.5, 0.5], [1, 1, 1, 1, 1, 1]], \"type\": \"heatmap\", \"uid\": \"e9587cd3-a920-43ce-adf6-405f03fdba38\"}], {\"annotations\": [{\"align\": \"left\", \"font\": {\"color\": \"#ffffff\"}, \"showarrow\": false, \"text\": \"<b>Model</b>\", \"x\": -0.45, \"xanchor\": \"left\", \"xref\": \"x\", \"y\": 0, \"yref\": \"y\"}, {\"align\": \"left\", \"font\": {\"color\": \"#ffffff\"}, \"showarrow\": false, \"text\": \"<b>Accuracy_score</b>\", \"x\": 0.55, \"xanchor\": \"left\", \"xref\": \"x\", \"y\": 0, \"yref\": \"y\"}, {\"align\": \"left\", \"font\": {\"color\": \"#ffffff\"}, \"showarrow\": false, \"text\": \"<b>Recall_score</b>\", \"x\": 1.55, \"xanchor\": \"left\", \"xref\": \"x\", \"y\": 0, \"yref\": \"y\"}, {\"align\": \"left\", \"font\": {\"color\": \"#ffffff\"}, \"showarrow\": false, \"text\": \"<b>Precision</b>\", \"x\": 2.55, \"xanchor\": \"left\", \"xref\": \"x\", \"y\": 0, \"yref\": \"y\"}, {\"align\": \"left\", \"font\": {\"color\": \"#ffffff\"}, \"showarrow\": false, \"text\": \"<b>f1_score</b>\", \"x\": 3.55, \"xanchor\": \"left\", \"xref\": \"x\", \"y\": 0, \"yref\": \"y\"}, {\"align\": \"left\", \"font\": {\"color\": \"#ffffff\"}, \"showarrow\": false, \"text\": \"<b>Area_under_curve</b>\", \"x\": 4.55, \"xanchor\": \"left\", \"xref\": \"x\", \"y\": 0, \"yref\": \"y\"}, {\"align\": \"left\", \"font\": {\"color\": \"#000000\"}, \"showarrow\": false, \"text\": \"LogReg(Baseline)\", \"x\": -0.45, \"xanchor\": \"left\", \"xref\": \"x\", \"y\": 1, \"yref\": \"y\"}, {\"align\": \"left\", \"font\": {\"color\": \"#000000\"}, \"showarrow\": false, \"text\": \"0.85\", \"x\": 0.55, \"xanchor\": \"left\", \"xref\": \"x\", \"y\": 1, \"yref\": \"y\"}, {\"align\": \"left\", \"font\": {\"color\": \"#000000\"}, \"showarrow\": false, \"text\": \"0.52\", \"x\": 1.55, \"xanchor\": \"left\", \"xref\": \"x\", \"y\": 1, \"yref\": \"y\"}, {\"align\": \"left\", \"font\": {\"color\": \"#000000\"}, \"showarrow\": false, \"text\": \"0.72\", \"x\": 2.55, \"xanchor\": \"left\", \"xref\": \"x\", \"y\": 1, \"yref\": \"y\"}, {\"align\": \"left\", \"font\": {\"color\": \"#000000\"}, \"showarrow\": false, \"text\": \"0.6\", \"x\": 3.55, \"xanchor\": \"left\", \"xref\": \"x\", \"y\": 1, \"yref\": \"y\"}, {\"align\": \"left\", \"font\": {\"color\": \"#000000\"}, \"showarrow\": false, \"text\": \"0.73\", \"x\": 4.55, \"xanchor\": \"left\", \"xref\": \"x\", \"y\": 1, \"yref\": \"y\"}, {\"align\": \"left\", \"font\": {\"color\": \"#000000\"}, \"showarrow\": false, \"text\": \"Random Forest\", \"x\": -0.45, \"xanchor\": \"left\", \"xref\": \"x\", \"y\": 2, \"yref\": \"y\"}, {\"align\": \"left\", \"font\": {\"color\": \"#000000\"}, \"showarrow\": false, \"text\": \"0.86\", \"x\": 0.55, \"xanchor\": \"left\", \"xref\": \"x\", \"y\": 2, \"yref\": \"y\"}, {\"align\": \"left\", \"font\": {\"color\": \"#000000\"}, \"showarrow\": false, \"text\": \"0.48\", \"x\": 1.55, \"xanchor\": \"left\", \"xref\": \"x\", \"y\": 2, \"yref\": \"y\"}, {\"align\": \"left\", \"font\": {\"color\": \"#000000\"}, \"showarrow\": false, \"text\": \"0.77\", \"x\": 2.55, \"xanchor\": \"left\", \"xref\": \"x\", \"y\": 2, \"yref\": \"y\"}, {\"align\": \"left\", \"font\": {\"color\": \"#000000\"}, \"showarrow\": false, \"text\": \"0.59\", \"x\": 3.55, \"xanchor\": \"left\", \"xref\": \"x\", \"y\": 2, \"yref\": \"y\"}, {\"align\": \"left\", \"font\": {\"color\": \"#000000\"}, \"showarrow\": false, \"text\": \"0.72\", \"x\": 4.55, \"xanchor\": \"left\", \"xref\": \"x\", \"y\": 2, \"yref\": \"y\"}], \"height\": 140, \"margin\": {\"b\": 0, \"l\": 0, \"r\": 0, \"t\": 0}, \"xaxis\": {\"dtick\": 1, \"gridwidth\": 2, \"showticklabels\": false, \"tick0\": -0.5, \"ticks\": \"\", \"zeroline\": false}, \"yaxis\": {\"autorange\": \"reversed\", \"dtick\": 1, \"gridwidth\": 2, \"showticklabels\": false, \"tick0\": 0.5, \"ticks\": \"\", \"zeroline\": false}}, {\"showLink\": false, \"linkText\": \"Export to plot.ly\", \"plotlyServerURL\": \"https://plot.ly\"}); \n",
       "}\n",
       "});</script><script type=\"text/javascript\">window.addEventListener(\"resize\", function(){if (document.getElementById(\"b9e6d746-142f-4aa2-817b-e9c0bfbd0733\")) {window._Plotly.Plots.resize(document.getElementById(\"b9e6d746-142f-4aa2-817b-e9c0bfbd0733\"));};})</script>"
      ],
      "text/vnd.plotly.v1+html": [
       "<div id=\"b9e6d746-142f-4aa2-817b-e9c0bfbd0733\" style=\"height: 140px; width: 100%;\" class=\"plotly-graph-div\"></div><script type=\"text/javascript\">require([\"plotly\"], function(Plotly) { window.PLOTLYENV=window.PLOTLYENV || {};window.PLOTLYENV.BASE_URL=\"https://plot.ly\";\n",
       "if (document.getElementById(\"b9e6d746-142f-4aa2-817b-e9c0bfbd0733\")) {\n",
       "    Plotly.newPlot(\"b9e6d746-142f-4aa2-817b-e9c0bfbd0733\", [{\"colorscale\": [[0, \"#00083e\"], [0.5, \"#ededee\"], [1, \"#ffffff\"]], \"hoverinfo\": \"none\", \"opacity\": 0.75, \"showscale\": false, \"z\": [[0, 0, 0, 0, 0, 0], [0.5, 0.5, 0.5, 0.5, 0.5, 0.5], [1, 1, 1, 1, 1, 1]], \"type\": \"heatmap\", \"uid\": \"e9587cd3-a920-43ce-adf6-405f03fdba38\"}], {\"annotations\": [{\"align\": \"left\", \"font\": {\"color\": \"#ffffff\"}, \"showarrow\": false, \"text\": \"<b>Model</b>\", \"x\": -0.45, \"xanchor\": \"left\", \"xref\": \"x\", \"y\": 0, \"yref\": \"y\"}, {\"align\": \"left\", \"font\": {\"color\": \"#ffffff\"}, \"showarrow\": false, \"text\": \"<b>Accuracy_score</b>\", \"x\": 0.55, \"xanchor\": \"left\", \"xref\": \"x\", \"y\": 0, \"yref\": \"y\"}, {\"align\": \"left\", \"font\": {\"color\": \"#ffffff\"}, \"showarrow\": false, \"text\": \"<b>Recall_score</b>\", \"x\": 1.55, \"xanchor\": \"left\", \"xref\": \"x\", \"y\": 0, \"yref\": \"y\"}, {\"align\": \"left\", \"font\": {\"color\": \"#ffffff\"}, \"showarrow\": false, \"text\": \"<b>Precision</b>\", \"x\": 2.55, \"xanchor\": \"left\", \"xref\": \"x\", \"y\": 0, \"yref\": \"y\"}, {\"align\": \"left\", \"font\": {\"color\": \"#ffffff\"}, \"showarrow\": false, \"text\": \"<b>f1_score</b>\", \"x\": 3.55, \"xanchor\": \"left\", \"xref\": \"x\", \"y\": 0, \"yref\": \"y\"}, {\"align\": \"left\", \"font\": {\"color\": \"#ffffff\"}, \"showarrow\": false, \"text\": \"<b>Area_under_curve</b>\", \"x\": 4.55, \"xanchor\": \"left\", \"xref\": \"x\", \"y\": 0, \"yref\": \"y\"}, {\"align\": \"left\", \"font\": {\"color\": \"#000000\"}, \"showarrow\": false, \"text\": \"LogReg(Baseline)\", \"x\": -0.45, \"xanchor\": \"left\", \"xref\": \"x\", \"y\": 1, \"yref\": \"y\"}, {\"align\": \"left\", \"font\": {\"color\": \"#000000\"}, \"showarrow\": false, \"text\": \"0.85\", \"x\": 0.55, \"xanchor\": \"left\", \"xref\": \"x\", \"y\": 1, \"yref\": \"y\"}, {\"align\": \"left\", \"font\": {\"color\": \"#000000\"}, \"showarrow\": false, \"text\": \"0.52\", \"x\": 1.55, \"xanchor\": \"left\", \"xref\": \"x\", \"y\": 1, \"yref\": \"y\"}, {\"align\": \"left\", \"font\": {\"color\": \"#000000\"}, \"showarrow\": false, \"text\": \"0.72\", \"x\": 2.55, \"xanchor\": \"left\", \"xref\": \"x\", \"y\": 1, \"yref\": \"y\"}, {\"align\": \"left\", \"font\": {\"color\": \"#000000\"}, \"showarrow\": false, \"text\": \"0.6\", \"x\": 3.55, \"xanchor\": \"left\", \"xref\": \"x\", \"y\": 1, \"yref\": \"y\"}, {\"align\": \"left\", \"font\": {\"color\": \"#000000\"}, \"showarrow\": false, \"text\": \"0.73\", \"x\": 4.55, \"xanchor\": \"left\", \"xref\": \"x\", \"y\": 1, \"yref\": \"y\"}, {\"align\": \"left\", \"font\": {\"color\": \"#000000\"}, \"showarrow\": false, \"text\": \"Random Forest\", \"x\": -0.45, \"xanchor\": \"left\", \"xref\": \"x\", \"y\": 2, \"yref\": \"y\"}, {\"align\": \"left\", \"font\": {\"color\": \"#000000\"}, \"showarrow\": false, \"text\": \"0.86\", \"x\": 0.55, \"xanchor\": \"left\", \"xref\": \"x\", \"y\": 2, \"yref\": \"y\"}, {\"align\": \"left\", \"font\": {\"color\": \"#000000\"}, \"showarrow\": false, \"text\": \"0.48\", \"x\": 1.55, \"xanchor\": \"left\", \"xref\": \"x\", \"y\": 2, \"yref\": \"y\"}, {\"align\": \"left\", \"font\": {\"color\": \"#000000\"}, \"showarrow\": false, \"text\": \"0.77\", \"x\": 2.55, \"xanchor\": \"left\", \"xref\": \"x\", \"y\": 2, \"yref\": \"y\"}, {\"align\": \"left\", \"font\": {\"color\": \"#000000\"}, \"showarrow\": false, \"text\": \"0.59\", \"x\": 3.55, \"xanchor\": \"left\", \"xref\": \"x\", \"y\": 2, \"yref\": \"y\"}, {\"align\": \"left\", \"font\": {\"color\": \"#000000\"}, \"showarrow\": false, \"text\": \"0.72\", \"x\": 4.55, \"xanchor\": \"left\", \"xref\": \"x\", \"y\": 2, \"yref\": \"y\"}], \"height\": 140, \"margin\": {\"b\": 0, \"l\": 0, \"r\": 0, \"t\": 0}, \"xaxis\": {\"dtick\": 1, \"gridwidth\": 2, \"showticklabels\": false, \"tick0\": -0.5, \"ticks\": \"\", \"zeroline\": false}, \"yaxis\": {\"autorange\": \"reversed\", \"dtick\": 1, \"gridwidth\": 2, \"showticklabels\": false, \"tick0\": 0.5, \"ticks\": \"\", \"zeroline\": false}}, {\"showLink\": false, \"linkText\": \"Export to plot.ly\", \"plotlyServerURL\": \"https://plot.ly\"}); \n",
       "}\n",
       "});</script><script type=\"text/javascript\">window.addEventListener(\"resize\", function(){if (document.getElementById(\"b9e6d746-142f-4aa2-817b-e9c0bfbd0733\")) {window._Plotly.Plots.resize(document.getElementById(\"b9e6d746-142f-4aa2-817b-e9c0bfbd0733\"));};})</script>"
      ]
     },
     "metadata": {},
     "output_type": "display_data"
    }
   ],
   "source": [
    "#concat all models\n",
    "model_performances = pd.concat([model1,model2],axis = 0).reset_index()\n",
    "\n",
    "model_performances = model_performances.drop(columns = \"index\",axis =1)\n",
    "\n",
    "table  = ff.create_table(np.round(model_performances,2))\n",
    "\n",
    "py.iplot(table)"
   ]
  },
  {
   "cell_type": "markdown",
   "metadata": {},
   "source": [
    "# Model Comparision"
   ]
  },
  {
   "cell_type": "code",
   "execution_count": 48,
   "metadata": {},
   "outputs": [
    {
     "data": {
      "application/vnd.plotly.v1+json": {
       "config": {
        "linkText": "Export to plot.ly",
        "plotlyServerURL": "https://plot.ly",
        "showLink": false
       },
       "data": [
        {
         "marker": {
          "color": "yellow",
          "line": {
           "width": 0.7
          }
         },
         "name": "Accuracy_score",
         "orientation": "h",
         "type": "bar",
         "uid": "3145caac-9028-4fae-a14d-69afd246e25f",
         "x": [
          0.8516129032258064,
          0.8567883729174052
         ],
         "y": [
          "LogReg(Baseline)",
          "Random Forest"
         ]
        },
        {
         "marker": {
          "color": "red",
          "line": {
           "width": 0.7
          }
         },
         "name": "Recall_score",
         "orientation": "h",
         "type": "bar",
         "uid": "194f9e41-b4a6-46ab-8243-969894aa8f0d",
         "x": [
          0.5182026894063627,
          0.4847490980649393
         ],
         "y": [
          "LogReg(Baseline)",
          "Random Forest"
         ]
        },
        {
         "marker": {
          "color": "blue",
          "line": {
           "width": 0.7
          }
         },
         "name": "Precision",
         "orientation": "h",
         "type": "bar",
         "uid": "f53e7fd5-afa9-41cb-88a5-8d6f1a57ce47",
         "x": [
          0.7168784029038112,
          0.7669953295277634
         ],
         "y": [
          "LogReg(Baseline)",
          "Random Forest"
         ]
        },
        {
         "marker": {
          "color": "white",
          "line": {
           "width": 0.7
          }
         },
         "name": "f1_score",
         "orientation": "h",
         "type": "bar",
         "uid": "625b0dc5-404b-45a6-bdc5-1af84d85b8ee",
         "x": [
          0.6015610127546165,
          0.5940514469453376
         ],
         "y": [
          "LogReg(Baseline)",
          "Random Forest"
         ]
        }
       ],
       "layout": {
        "height": 780,
        "margin": {
         "l": 250
        },
        "paper_bgcolor": "rgb(243,243,243)",
        "plot_bgcolor": "rgb(243,243,243)",
        "title": {
         "text": "Model performances"
        },
        "xaxis": {
         "gridcolor": "rgb(255, 255, 255)",
         "gridwidth": 2,
         "ticklen": 5,
         "title": {
          "text": "metric"
         },
         "zerolinewidth": 1
        },
        "yaxis": {
         "gridcolor": "rgb(255, 255, 255)",
         "gridwidth": 2,
         "ticklen": 5,
         "zerolinewidth": 1
        }
       }
      },
      "text/html": [
       "<div id=\"95f909d9-9d2a-47f6-a878-397d9238161f\" style=\"height: 780px; width: 100%;\" class=\"plotly-graph-div\"></div><script type=\"text/javascript\">require([\"plotly\"], function(Plotly) { window.PLOTLYENV=window.PLOTLYENV || {};window.PLOTLYENV.BASE_URL=\"https://plot.ly\";\n",
       "if (document.getElementById(\"95f909d9-9d2a-47f6-a878-397d9238161f\")) {\n",
       "    Plotly.newPlot(\"95f909d9-9d2a-47f6-a878-397d9238161f\", [{\"marker\": {\"color\": \"yellow\", \"line\": {\"width\": 0.7}}, \"name\": \"Accuracy_score\", \"orientation\": \"h\", \"x\": [0.8516129032258064, 0.8567883729174052], \"y\": [\"LogReg(Baseline)\", \"Random Forest\"], \"type\": \"bar\", \"uid\": \"3145caac-9028-4fae-a14d-69afd246e25f\"}, {\"marker\": {\"color\": \"red\", \"line\": {\"width\": 0.7}}, \"name\": \"Recall_score\", \"orientation\": \"h\", \"x\": [0.5182026894063627, 0.4847490980649393], \"y\": [\"LogReg(Baseline)\", \"Random Forest\"], \"type\": \"bar\", \"uid\": \"194f9e41-b4a6-46ab-8243-969894aa8f0d\"}, {\"marker\": {\"color\": \"blue\", \"line\": {\"width\": 0.7}}, \"name\": \"Precision\", \"orientation\": \"h\", \"x\": [0.7168784029038112, 0.7669953295277634], \"y\": [\"LogReg(Baseline)\", \"Random Forest\"], \"type\": \"bar\", \"uid\": \"f53e7fd5-afa9-41cb-88a5-8d6f1a57ce47\"}, {\"marker\": {\"color\": \"white\", \"line\": {\"width\": 0.7}}, \"name\": \"f1_score\", \"orientation\": \"h\", \"x\": [0.6015610127546165, 0.5940514469453376], \"y\": [\"LogReg(Baseline)\", \"Random Forest\"], \"type\": \"bar\", \"uid\": \"625b0dc5-404b-45a6-bdc5-1af84d85b8ee\"}], {\"height\": 780, \"margin\": {\"l\": 250}, \"paper_bgcolor\": \"rgb(243,243,243)\", \"plot_bgcolor\": \"rgb(243,243,243)\", \"title\": {\"text\": \"Model performances\"}, \"xaxis\": {\"gridcolor\": \"rgb(255, 255, 255)\", \"gridwidth\": 2, \"ticklen\": 5, \"title\": {\"text\": \"metric\"}, \"zerolinewidth\": 1}, \"yaxis\": {\"gridcolor\": \"rgb(255, 255, 255)\", \"gridwidth\": 2, \"ticklen\": 5, \"zerolinewidth\": 1}}, {\"showLink\": false, \"linkText\": \"Export to plot.ly\", \"plotlyServerURL\": \"https://plot.ly\"}); \n",
       "}\n",
       "});</script><script type=\"text/javascript\">window.addEventListener(\"resize\", function(){if (document.getElementById(\"95f909d9-9d2a-47f6-a878-397d9238161f\")) {window._Plotly.Plots.resize(document.getElementById(\"95f909d9-9d2a-47f6-a878-397d9238161f\"));};})</script>"
      ],
      "text/vnd.plotly.v1+html": [
       "<div id=\"95f909d9-9d2a-47f6-a878-397d9238161f\" style=\"height: 780px; width: 100%;\" class=\"plotly-graph-div\"></div><script type=\"text/javascript\">require([\"plotly\"], function(Plotly) { window.PLOTLYENV=window.PLOTLYENV || {};window.PLOTLYENV.BASE_URL=\"https://plot.ly\";\n",
       "if (document.getElementById(\"95f909d9-9d2a-47f6-a878-397d9238161f\")) {\n",
       "    Plotly.newPlot(\"95f909d9-9d2a-47f6-a878-397d9238161f\", [{\"marker\": {\"color\": \"yellow\", \"line\": {\"width\": 0.7}}, \"name\": \"Accuracy_score\", \"orientation\": \"h\", \"x\": [0.8516129032258064, 0.8567883729174052], \"y\": [\"LogReg(Baseline)\", \"Random Forest\"], \"type\": \"bar\", \"uid\": \"3145caac-9028-4fae-a14d-69afd246e25f\"}, {\"marker\": {\"color\": \"red\", \"line\": {\"width\": 0.7}}, \"name\": \"Recall_score\", \"orientation\": \"h\", \"x\": [0.5182026894063627, 0.4847490980649393], \"y\": [\"LogReg(Baseline)\", \"Random Forest\"], \"type\": \"bar\", \"uid\": \"194f9e41-b4a6-46ab-8243-969894aa8f0d\"}, {\"marker\": {\"color\": \"blue\", \"line\": {\"width\": 0.7}}, \"name\": \"Precision\", \"orientation\": \"h\", \"x\": [0.7168784029038112, 0.7669953295277634], \"y\": [\"LogReg(Baseline)\", \"Random Forest\"], \"type\": \"bar\", \"uid\": \"f53e7fd5-afa9-41cb-88a5-8d6f1a57ce47\"}, {\"marker\": {\"color\": \"white\", \"line\": {\"width\": 0.7}}, \"name\": \"f1_score\", \"orientation\": \"h\", \"x\": [0.6015610127546165, 0.5940514469453376], \"y\": [\"LogReg(Baseline)\", \"Random Forest\"], \"type\": \"bar\", \"uid\": \"625b0dc5-404b-45a6-bdc5-1af84d85b8ee\"}], {\"height\": 780, \"margin\": {\"l\": 250}, \"paper_bgcolor\": \"rgb(243,243,243)\", \"plot_bgcolor\": \"rgb(243,243,243)\", \"title\": {\"text\": \"Model performances\"}, \"xaxis\": {\"gridcolor\": \"rgb(255, 255, 255)\", \"gridwidth\": 2, \"ticklen\": 5, \"title\": {\"text\": \"metric\"}, \"zerolinewidth\": 1}, \"yaxis\": {\"gridcolor\": \"rgb(255, 255, 255)\", \"gridwidth\": 2, \"ticklen\": 5, \"zerolinewidth\": 1}}, {\"showLink\": false, \"linkText\": \"Export to plot.ly\", \"plotlyServerURL\": \"https://plot.ly\"}); \n",
       "}\n",
       "});</script><script type=\"text/javascript\">window.addEventListener(\"resize\", function(){if (document.getElementById(\"95f909d9-9d2a-47f6-a878-397d9238161f\")) {window._Plotly.Plots.resize(document.getElementById(\"95f909d9-9d2a-47f6-a878-397d9238161f\"));};})</script>"
      ]
     },
     "metadata": {},
     "output_type": "display_data"
    }
   ],
   "source": [
    "model_performances\n",
    "def output_tracer(metric,color) :\n",
    "    tracer = go.Bar(y = model_performances[\"Model\"] ,\n",
    "                    x = model_performances[metric],\n",
    "                    orientation = \"h\",name = metric ,\n",
    "                    marker = dict(line = dict(width =.7),\n",
    "                                  color = color)\n",
    "                   )\n",
    "    return tracer\n",
    "\n",
    "layout = go.Layout(dict(title = \"Model performances\",\n",
    "                        plot_bgcolor  = \"rgb(243,243,243)\",\n",
    "                        paper_bgcolor = \"rgb(243,243,243)\",\n",
    "                        xaxis = dict(gridcolor = 'rgb(255, 255, 255)',\n",
    "                                     title = \"metric\",\n",
    "                                     zerolinewidth=1,\n",
    "                                     ticklen=5,gridwidth=2),\n",
    "                        yaxis = dict(gridcolor = 'rgb(255, 255, 255)',\n",
    "                                     zerolinewidth=1,ticklen=5,gridwidth=2),\n",
    "                        margin = dict(l = 250),\n",
    "                        height = 780\n",
    "                       )\n",
    "                  )\n",
    "\n",
    "\n",
    "trace1  = output_tracer(\"Accuracy_score\",\"yellow\")\n",
    "trace2  = output_tracer('Recall_score',\"red\")\n",
    "trace3  = output_tracer('Precision',\"blue\")\n",
    "trace4  = output_tracer('f1_score',\"white\")\n",
    "\n",
    "data = [trace1,trace2,trace3,trace4]\n",
    "fig = go.Figure(data=data,layout=layout)\n",
    "py.iplot(fig)"
   ]
  },
  {
   "cell_type": "code",
   "execution_count": null,
   "metadata": {},
   "outputs": [],
   "source": []
  }
 ],
 "metadata": {
  "kernelspec": {
   "display_name": "Python 3",
   "language": "python",
   "name": "python3"
  },
  "language_info": {
   "codemirror_mode": {
    "name": "ipython",
    "version": 3
   },
   "file_extension": ".py",
   "mimetype": "text/x-python",
   "name": "python",
   "nbconvert_exporter": "python",
   "pygments_lexer": "ipython3",
   "version": "3.6.0"
  }
 },
 "nbformat": 4,
 "nbformat_minor": 2
}
