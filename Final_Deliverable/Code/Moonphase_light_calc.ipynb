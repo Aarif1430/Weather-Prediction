{
 "cells": [
  {
   "cell_type": "code",
   "execution_count": 4,
   "metadata": {},
   "outputs": [
    {
     "name": "stdout",
     "output_type": "stream",
     "text": [
      "1 1 2009\n",
      "1 2 2009\n",
      "1 4 2009\n",
      "1 5 2009\n",
      "1 6 2009\n",
      "1 7 2009\n",
      "1 8 2009\n",
      "1 9 2009\n",
      "1 10 2009\n",
      "9\n",
      "2009.0\n",
      "1.0\n",
      "10.0\n",
      "done, check result\n"
     ]
    }
   ],
   "source": [
    "# Reading an excel file using Python \n",
    "import xlrd \n",
    "import xlwt \n",
    "from xlwt import Workbook \n",
    "    \n",
    "# Give the location of the file \n",
    "loc = (\"./downloads/WeatherData.xlsx\") \n",
    "  \n",
    "# To open Workbook \n",
    "wb = xlrd.open_workbook(loc) \n",
    "sheet = wb.sheet_by_index(0) \n",
    "wb2 = Workbook() \n",
    "sheet1 = wb2.add_sheet('Sheet 2') \n",
    "\n",
    "def moon_phase(month, day, year):\n",
    "    ages = [18, 0, 11, 22, 3, 14, 25, 6, 17, 28, 9, 20, 1, 12, 23, 4, 15, 26, 7]\n",
    "    offsets = [-1, 1, 0, 1, 2, 3, 4, 5, 7, 7, 9, 9]\n",
    "    description = [\"new (totally dark)\",\n",
    "      \"waxing crescent (increasing to full)\",\n",
    "      \"in its first quarter (increasing to full)\",\n",
    "      \"waxing gibbous (increasing to full)\",\n",
    "      \"full (full light)\",\n",
    "      \"waning gibbous (decreasing from full)\",\n",
    "      \"in its last quarter (decreasing from full)\",\n",
    "      \"waning crescent (decreasing from full)\"]\n",
    "    months = [\"Jan\", \"Feb\", \"Mar\", \"Apr\", \"May\", \"Jun\", \"Jul\", \"Aug\", \"Sep\", \"Oct\", \"Nov\", \"Dec\"]\n",
    "    \n",
    "    if day == 31:\n",
    "        day = 1\n",
    "    days_into_phase = ((ages[(year + 1) % 19] + ((day + offsets[month-1]) % 30) + (year < 1900)) % 30)\n",
    "    index = int((days_into_phase + 2) * 16/59.0)\n",
    "    if index > 7:\n",
    "        index = 7\n",
    "    status = description[index]\n",
    "    \n",
    "    # light should be 100% 15 days into phase\n",
    "    light = int(2 * days_into_phase * 100/29)\n",
    "    if light > 100:\n",
    "        light = abs(light - 200);\n",
    "    date = \"%d%s%d\" % (day, months[month-1], year)\n",
    "    \n",
    "    return date, status, light\n",
    "\n",
    "# put in the range of records to be calculated for(below is the sample for 10 rows ) \n",
    "for x in range(1, 10):\n",
    "    year = int(sheet.cell_value(x, 24))\n",
    "    month = int(sheet.cell_value(x, 25))\n",
    "    day = int(sheet.cell_value(x, 26))\n",
    "    date, status, light = moon_phase(month, day, year)\n",
    "    sheet1.write(x, 0, status)\n",
    "    sheet1.write(x, 1, light)\n",
    "    print(month, day, year)\n",
    "print(x)\n",
    "print(sheet.cell_value(x, 24))\n",
    "print(sheet.cell_value(x, 25))\n",
    "print(sheet.cell_value(x, 26))\n",
    "\n",
    "wb2.save(\"./downloads/.xls\") \n",
    "print(\"done, check result\") \n"
   ]
  },
  {
   "cell_type": "code",
   "execution_count": null,
   "metadata": {},
   "outputs": [],
   "source": []
  }
 ],
 "metadata": {
  "kernelspec": {
   "display_name": "Python 3",
   "language": "python",
   "name": "python3"
  },
  "language_info": {
   "codemirror_mode": {
    "name": "ipython",
    "version": 3
   },
   "file_extension": ".py",
   "mimetype": "text/x-python",
   "name": "python",
   "nbconvert_exporter": "python",
   "pygments_lexer": "ipython3",
   "version": "3.6.8"
  }
 },
 "nbformat": 4,
 "nbformat_minor": 2
}
